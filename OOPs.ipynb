{
 "cells": [
  {
   "cell_type": "code",
   "execution_count": 3,
   "id": "950b48a0",
   "metadata": {},
   "outputs": [],
   "source": [
    "class power:\n",
    "       def pow(self, x, n):\n",
    "            if x==0 or x==1 or n==1:\n",
    "                return x \n",
    "\n",
    "            if x==-1:\n",
    "                if n%2 ==0:\n",
    "                    return 1\n",
    "                else:\n",
    "                    return -1\n",
    "            if n==0:\n",
    "                return 1\n",
    "            if n<0:\n",
    "                return 1/self.pow(x,-n)\n",
    "            val = self.pow(x,n//2)\n",
    "            if n%2 ==0:\n",
    "                return val*val\n",
    "            return val*val*x"
   ]
  },
  {
   "cell_type": "code",
   "execution_count": 4,
   "id": "bcd0b1d2",
   "metadata": {},
   "outputs": [],
   "source": [
    "result = pow(10 , 2)"
   ]
  },
  {
   "cell_type": "code",
   "execution_count": 5,
   "id": "525a35db",
   "metadata": {},
   "outputs": [
    {
     "data": {
      "text/plain": [
       "100"
      ]
     },
     "execution_count": 5,
     "metadata": {},
     "output_type": "execute_result"
    }
   ],
   "source": [
    "result"
   ]
  }
 ],
 "metadata": {
  "kernelspec": {
   "display_name": "Python 3 (ipykernel)",
   "language": "python",
   "name": "python3"
  },
  "language_info": {
   "codemirror_mode": {
    "name": "ipython",
    "version": 3
   },
   "file_extension": ".py",
   "mimetype": "text/x-python",
   "name": "python",
   "nbconvert_exporter": "python",
   "pygments_lexer": "ipython3",
   "version": "3.10.0"
  }
 },
 "nbformat": 4,
 "nbformat_minor": 5
}
